{
 "cells": [
  {
   "cell_type": "code",
   "execution_count": 1,
   "id": "746918a1",
   "metadata": {
    "_cell_guid": "b1076dfc-b9ad-4769-8c92-a6c4dae69d19",
    "_uuid": "8f2839f25d086af736a60e9eeb907d3b93b6e0e5",
    "execution": {
     "iopub.execute_input": "2023-03-31T16:13:49.891918Z",
     "iopub.status.busy": "2023-03-31T16:13:49.891487Z",
     "iopub.status.idle": "2023-03-31T16:13:49.906913Z",
     "shell.execute_reply": "2023-03-31T16:13:49.905687Z"
    },
    "papermill": {
     "duration": 0.036946,
     "end_time": "2023-03-31T16:13:49.909959",
     "exception": false,
     "start_time": "2023-03-31T16:13:49.873013",
     "status": "completed"
    },
    "tags": []
   },
   "outputs": [
    {
     "name": "stdout",
     "output_type": "stream",
     "text": [
      "/kaggle/input/house-prices-advanced-regression-techniques/sample_submission.csv\n",
      "/kaggle/input/house-prices-advanced-regression-techniques/data_description.txt\n",
      "/kaggle/input/house-prices-advanced-regression-techniques/train.csv\n",
      "/kaggle/input/house-prices-advanced-regression-techniques/test.csv\n"
     ]
    }
   ],
   "source": [
    "# This Python 3 environment comes with many helpful analytics libraries installed\n",
    "# It is defined by the kaggle/python Docker image: https://github.com/kaggle/docker-python\n",
    "# For example, here's several helpful packages to load\n",
    "\n",
    "import numpy as np # linear algebra\n",
    "import pandas as pd # data processing, CSV file I/O (e.g. pd.read_csv)\n",
    "\n",
    "# Input data files are available in the read-only \"../input/\" directory\n",
    "# For example, running this (by clicking run or pressing Shift+Enter) will list all files under the input directory\n",
    "\n",
    "import os\n",
    "for dirname, _, filenames in os.walk('/kaggle/input'):\n",
    "    for filename in filenames:\n",
    "        print(os.path.join(dirname, filename))\n",
    "\n",
    "# You can write up to 20GB to the current directory (/kaggle/working/) that gets preserved as output when you create a version using \"Save & Run All\" \n",
    "# You can also write temporary files to /kaggle/temp/, but they won't be saved outside of the current session"
   ]
  },
  {
   "cell_type": "markdown",
   "id": "83d9e641",
   "metadata": {
    "papermill": {
     "duration": 0.009623,
     "end_time": "2023-03-31T16:13:49.929792",
     "exception": false,
     "start_time": "2023-03-31T16:13:49.920169",
     "status": "completed"
    },
    "tags": []
   },
   "source": [
    "**Howdy!\n",
    "This notebook is a simple reference file. Do upvote and support.**"
   ]
  },
  {
   "cell_type": "markdown",
   "id": "109d73dc",
   "metadata": {
    "papermill": {
     "duration": 0.009515,
     "end_time": "2023-03-31T16:13:49.949262",
     "exception": false,
     "start_time": "2023-03-31T16:13:49.939747",
     "status": "completed"
    },
    "tags": []
   },
   "source": [
    "Import required libraries"
   ]
  },
  {
   "cell_type": "code",
   "execution_count": 2,
   "id": "b8b770fe",
   "metadata": {
    "execution": {
     "iopub.execute_input": "2023-03-31T16:13:49.972510Z",
     "iopub.status.busy": "2023-03-31T16:13:49.971657Z",
     "iopub.status.idle": "2023-03-31T16:13:51.617064Z",
     "shell.execute_reply": "2023-03-31T16:13:51.615721Z"
    },
    "papermill": {
     "duration": 1.660509,
     "end_time": "2023-03-31T16:13:51.620127",
     "exception": false,
     "start_time": "2023-03-31T16:13:49.959618",
     "status": "completed"
    },
    "tags": []
   },
   "outputs": [],
   "source": [
    "import pandas as pd\n",
    "import numpy as np\n",
    "from sklearn.ensemble import RandomForestRegressor, GradientBoostingRegressor\n",
    "from sklearn.model_selection import train_test_split\n",
    "from sklearn.metrics import mean_squared_error\n",
    "from sklearn.preprocessing import LabelEncoder"
   ]
  },
  {
   "cell_type": "markdown",
   "id": "bf6f65e3",
   "metadata": {
    "papermill": {
     "duration": 0.009378,
     "end_time": "2023-03-31T16:13:51.639595",
     "exception": false,
     "start_time": "2023-03-31T16:13:51.630217",
     "status": "completed"
    },
    "tags": []
   },
   "source": [
    "Load the data"
   ]
  },
  {
   "cell_type": "code",
   "execution_count": 3,
   "id": "af0c67b9",
   "metadata": {
    "execution": {
     "iopub.execute_input": "2023-03-31T16:13:51.661861Z",
     "iopub.status.busy": "2023-03-31T16:13:51.661119Z",
     "iopub.status.idle": "2023-03-31T16:13:51.738905Z",
     "shell.execute_reply": "2023-03-31T16:13:51.737656Z"
    },
    "papermill": {
     "duration": 0.091846,
     "end_time": "2023-03-31T16:13:51.741755",
     "exception": false,
     "start_time": "2023-03-31T16:13:51.649909",
     "status": "completed"
    },
    "tags": []
   },
   "outputs": [],
   "source": [
    "train = pd.read_csv('/kaggle/input/house-prices-advanced-regression-techniques/train.csv')\n",
    "test = pd.read_csv('/kaggle/input/house-prices-advanced-regression-techniques/test.csv')"
   ]
  },
  {
   "cell_type": "markdown",
   "id": "20bec137",
   "metadata": {
    "papermill": {
     "duration": 0.009594,
     "end_time": "2023-03-31T16:13:51.761219",
     "exception": false,
     "start_time": "2023-03-31T16:13:51.751625",
     "status": "completed"
    },
    "tags": []
   },
   "source": [
    "Combine the train and test data for preprocessing"
   ]
  },
  {
   "cell_type": "code",
   "execution_count": 4,
   "id": "195ba3e3",
   "metadata": {
    "execution": {
     "iopub.execute_input": "2023-03-31T16:13:51.783263Z",
     "iopub.status.busy": "2023-03-31T16:13:51.782479Z",
     "iopub.status.idle": "2023-03-31T16:13:51.805237Z",
     "shell.execute_reply": "2023-03-31T16:13:51.804101Z"
    },
    "papermill": {
     "duration": 0.036883,
     "end_time": "2023-03-31T16:13:51.807749",
     "exception": false,
     "start_time": "2023-03-31T16:13:51.770866",
     "status": "completed"
    },
    "tags": []
   },
   "outputs": [],
   "source": [
    "combined = pd.concat([train, test], sort=False)"
   ]
  },
  {
   "cell_type": "markdown",
   "id": "07490092",
   "metadata": {
    "papermill": {
     "duration": 0.010578,
     "end_time": "2023-03-31T16:13:51.828188",
     "exception": false,
     "start_time": "2023-03-31T16:13:51.817610",
     "status": "completed"
    },
    "tags": []
   },
   "source": [
    "Feature Engineering"
   ]
  },
  {
   "cell_type": "markdown",
   "id": "a3f89eeb",
   "metadata": {
    "papermill": {
     "duration": 0.009504,
     "end_time": "2023-03-31T16:13:51.847537",
     "exception": false,
     "start_time": "2023-03-31T16:13:51.838033",
     "status": "completed"
    },
    "tags": []
   },
   "source": [
    "Add new features based on existing ones"
   ]
  },
  {
   "cell_type": "code",
   "execution_count": 5,
   "id": "d57bbb2e",
   "metadata": {
    "execution": {
     "iopub.execute_input": "2023-03-31T16:13:51.869712Z",
     "iopub.status.busy": "2023-03-31T16:13:51.868915Z",
     "iopub.status.idle": "2023-03-31T16:13:51.886398Z",
     "shell.execute_reply": "2023-03-31T16:13:51.884651Z"
    },
    "papermill": {
     "duration": 0.031937,
     "end_time": "2023-03-31T16:13:51.889390",
     "exception": false,
     "start_time": "2023-03-31T16:13:51.857453",
     "status": "completed"
    },
    "tags": []
   },
   "outputs": [],
   "source": [
    "combined['TotalSF'] = combined['TotalBsmtSF'] + combined['1stFlrSF'] + combined['2ndFlrSF']\n",
    "combined['TotalBathrooms'] = combined['FullBath'] + (0.5 * combined['HalfBath']) + combined['BsmtFullBath'] + (0.5 * combined['BsmtHalfBath'])\n",
    "combined['TotalPorchSF'] = combined['OpenPorchSF'] + combined['EnclosedPorch'] + combined['3SsnPorch'] + combined['ScreenPorch']"
   ]
  },
  {
   "cell_type": "markdown",
   "id": "48d7beb8",
   "metadata": {
    "papermill": {
     "duration": 0.00961,
     "end_time": "2023-03-31T16:13:51.908812",
     "exception": false,
     "start_time": "2023-03-31T16:13:51.899202",
     "status": "completed"
    },
    "tags": []
   },
   "source": [
    "Fill missing values"
   ]
  },
  {
   "cell_type": "code",
   "execution_count": 6,
   "id": "0115749f",
   "metadata": {
    "execution": {
     "iopub.execute_input": "2023-03-31T16:13:51.930813Z",
     "iopub.status.busy": "2023-03-31T16:13:51.930381Z",
     "iopub.status.idle": "2023-03-31T16:13:51.952352Z",
     "shell.execute_reply": "2023-03-31T16:13:51.951100Z"
    },
    "papermill": {
     "duration": 0.036627,
     "end_time": "2023-03-31T16:13:51.955456",
     "exception": false,
     "start_time": "2023-03-31T16:13:51.918829",
     "status": "completed"
    },
    "tags": []
   },
   "outputs": [],
   "source": [
    "combined['MSZoning'] = combined['MSZoning'].fillna(combined['MSZoning'].mode()[0])\n",
    "combined['Utilities'] = combined['Utilities'].fillna(combined['Utilities'].mode()[0])\n",
    "combined['Exterior1st'] = combined['Exterior1st'].fillna(combined['Exterior1st'].mode()[0])\n",
    "combined['Exterior2nd'] = combined['Exterior2nd'].fillna(combined['Exterior2nd'].mode()[0])\n",
    "combined['KitchenQual'] = combined['KitchenQual'].fillna(combined['KitchenQual'].mode()[0])\n",
    "combined['Functional'] = combined['Functional'].fillna(combined['Functional'].mode()[0])\n",
    "combined['SaleType'] = combined['SaleType'].fillna(combined['SaleType'].mode()[0])"
   ]
  },
  {
   "cell_type": "markdown",
   "id": "2c23cf70",
   "metadata": {
    "papermill": {
     "duration": 0.009514,
     "end_time": "2023-03-31T16:13:51.974687",
     "exception": false,
     "start_time": "2023-03-31T16:13:51.965173",
     "status": "completed"
    },
    "tags": []
   },
   "source": [
    "Encode categorical features"
   ]
  },
  {
   "cell_type": "code",
   "execution_count": 7,
   "id": "bad8ee87",
   "metadata": {
    "execution": {
     "iopub.execute_input": "2023-03-31T16:13:51.997001Z",
     "iopub.status.busy": "2023-03-31T16:13:51.995714Z",
     "iopub.status.idle": "2023-03-31T16:13:52.078056Z",
     "shell.execute_reply": "2023-03-31T16:13:52.077060Z"
    },
    "papermill": {
     "duration": 0.096363,
     "end_time": "2023-03-31T16:13:52.080887",
     "exception": false,
     "start_time": "2023-03-31T16:13:51.984524",
     "status": "completed"
    },
    "tags": []
   },
   "outputs": [],
   "source": [
    "le = LabelEncoder()\n",
    "categorical_features = combined.select_dtypes(include=['object']).columns\n",
    "for col in categorical_features:\n",
    "    combined[col] = le.fit_transform(combined[col])"
   ]
  },
  {
   "cell_type": "markdown",
   "id": "51a326de",
   "metadata": {
    "papermill": {
     "duration": 0.009618,
     "end_time": "2023-03-31T16:13:52.100489",
     "exception": false,
     "start_time": "2023-03-31T16:13:52.090871",
     "status": "completed"
    },
    "tags": []
   },
   "source": [
    "Split the data back into train and test sets"
   ]
  },
  {
   "cell_type": "code",
   "execution_count": 8,
   "id": "00e14c1c",
   "metadata": {
    "execution": {
     "iopub.execute_input": "2023-03-31T16:13:52.122531Z",
     "iopub.status.busy": "2023-03-31T16:13:52.121668Z",
     "iopub.status.idle": "2023-03-31T16:13:52.128226Z",
     "shell.execute_reply": "2023-03-31T16:13:52.126884Z"
    },
    "papermill": {
     "duration": 0.020957,
     "end_time": "2023-03-31T16:13:52.131040",
     "exception": false,
     "start_time": "2023-03-31T16:13:52.110083",
     "status": "completed"
    },
    "tags": []
   },
   "outputs": [],
   "source": [
    "train_processed = combined.iloc[:len(train), :]\n",
    "test_processed = combined.iloc[len(train):, :]"
   ]
  },
  {
   "cell_type": "markdown",
   "id": "3dc2ad95",
   "metadata": {
    "papermill": {
     "duration": 0.009381,
     "end_time": "2023-03-31T16:13:52.150359",
     "exception": false,
     "start_time": "2023-03-31T16:13:52.140978",
     "status": "completed"
    },
    "tags": []
   },
   "source": [
    "Define X and y"
   ]
  },
  {
   "cell_type": "code",
   "execution_count": 9,
   "id": "b345bb11",
   "metadata": {
    "execution": {
     "iopub.execute_input": "2023-03-31T16:13:52.171720Z",
     "iopub.status.busy": "2023-03-31T16:13:52.171303Z",
     "iopub.status.idle": "2023-03-31T16:13:52.179389Z",
     "shell.execute_reply": "2023-03-31T16:13:52.178399Z"
    },
    "papermill": {
     "duration": 0.021714,
     "end_time": "2023-03-31T16:13:52.181671",
     "exception": false,
     "start_time": "2023-03-31T16:13:52.159957",
     "status": "completed"
    },
    "tags": []
   },
   "outputs": [],
   "source": [
    "X = train_processed.drop(['Id', 'SalePrice'], axis=1)\n",
    "y = train_processed['SalePrice']"
   ]
  },
  {
   "cell_type": "markdown",
   "id": "9b9d8c98",
   "metadata": {
    "papermill": {
     "duration": 0.009563,
     "end_time": "2023-03-31T16:13:52.200999",
     "exception": false,
     "start_time": "2023-03-31T16:13:52.191436",
     "status": "completed"
    },
    "tags": []
   },
   "source": [
    "Split the train data into train and validation sets"
   ]
  },
  {
   "cell_type": "code",
   "execution_count": 10,
   "id": "eab24f5d",
   "metadata": {
    "execution": {
     "iopub.execute_input": "2023-03-31T16:13:52.222554Z",
     "iopub.status.busy": "2023-03-31T16:13:52.221882Z",
     "iopub.status.idle": "2023-03-31T16:13:52.231227Z",
     "shell.execute_reply": "2023-03-31T16:13:52.229908Z"
    },
    "papermill": {
     "duration": 0.023281,
     "end_time": "2023-03-31T16:13:52.234013",
     "exception": false,
     "start_time": "2023-03-31T16:13:52.210732",
     "status": "completed"
    },
    "tags": []
   },
   "outputs": [],
   "source": [
    "X_train, X_val, y_train, y_val = train_test_split(X, y, test_size=0.2, random_state=42)"
   ]
  },
  {
   "cell_type": "markdown",
   "id": "f3012568",
   "metadata": {
    "papermill": {
     "duration": 0.010144,
     "end_time": "2023-03-31T16:13:52.254640",
     "exception": false,
     "start_time": "2023-03-31T16:13:52.244496",
     "status": "completed"
    },
    "tags": []
   },
   "source": [
    "Fill missing values with mean"
   ]
  },
  {
   "cell_type": "code",
   "execution_count": 11,
   "id": "d633444b",
   "metadata": {
    "execution": {
     "iopub.execute_input": "2023-03-31T16:13:52.277116Z",
     "iopub.status.busy": "2023-03-31T16:13:52.275768Z",
     "iopub.status.idle": "2023-03-31T16:13:52.298026Z",
     "shell.execute_reply": "2023-03-31T16:13:52.296250Z"
    },
    "papermill": {
     "duration": 0.036483,
     "end_time": "2023-03-31T16:13:52.300965",
     "exception": false,
     "start_time": "2023-03-31T16:13:52.264482",
     "status": "completed"
    },
    "tags": []
   },
   "outputs": [],
   "source": [
    "X_train.fillna(X_train.mean(), inplace=True)  "
   ]
  },
  {
   "cell_type": "markdown",
   "id": "cbb00eb5",
   "metadata": {
    "papermill": {
     "duration": 0.009571,
     "end_time": "2023-03-31T16:13:52.320425",
     "exception": false,
     "start_time": "2023-03-31T16:13:52.310854",
     "status": "completed"
    },
    "tags": []
   },
   "source": [
    "Random Forests (RFs)"
   ]
  },
  {
   "cell_type": "code",
   "execution_count": 12,
   "id": "d8244c48",
   "metadata": {
    "execution": {
     "iopub.execute_input": "2023-03-31T16:13:52.343046Z",
     "iopub.status.busy": "2023-03-31T16:13:52.342635Z",
     "iopub.status.idle": "2023-03-31T16:13:54.252694Z",
     "shell.execute_reply": "2023-03-31T16:13:54.251342Z"
    },
    "papermill": {
     "duration": 1.92466,
     "end_time": "2023-03-31T16:13:54.255263",
     "exception": false,
     "start_time": "2023-03-31T16:13:52.330603",
     "status": "completed"
    },
    "tags": []
   },
   "outputs": [
    {
     "data": {
      "text/plain": [
       "RandomForestRegressor(random_state=42)"
      ]
     },
     "execution_count": 12,
     "metadata": {},
     "output_type": "execute_result"
    }
   ],
   "source": [
    "rf_model = RandomForestRegressor(n_estimators=100, random_state=42)\n",
    "rf_model.fit(X_train, y_train)"
   ]
  },
  {
   "cell_type": "markdown",
   "id": "04a72452",
   "metadata": {
    "papermill": {
     "duration": 0.010617,
     "end_time": "2023-03-31T16:13:54.275967",
     "exception": false,
     "start_time": "2023-03-31T16:13:54.265350",
     "status": "completed"
    },
    "tags": []
   },
   "source": [
    "Fill missing values with mean"
   ]
  },
  {
   "cell_type": "code",
   "execution_count": 13,
   "id": "157fba8e",
   "metadata": {
    "execution": {
     "iopub.execute_input": "2023-03-31T16:13:54.299245Z",
     "iopub.status.busy": "2023-03-31T16:13:54.297920Z",
     "iopub.status.idle": "2023-03-31T16:13:54.319959Z",
     "shell.execute_reply": "2023-03-31T16:13:54.318069Z"
    },
    "papermill": {
     "duration": 0.036801,
     "end_time": "2023-03-31T16:13:54.323261",
     "exception": false,
     "start_time": "2023-03-31T16:13:54.286460",
     "status": "completed"
    },
    "tags": []
   },
   "outputs": [],
   "source": [
    "X_val.fillna(X_val.mean(), inplace=True) "
   ]
  },
  {
   "cell_type": "markdown",
   "id": "f11b8835",
   "metadata": {
    "papermill": {
     "duration": 0.009603,
     "end_time": "2023-03-31T16:13:54.343400",
     "exception": false,
     "start_time": "2023-03-31T16:13:54.333797",
     "status": "completed"
    },
    "tags": []
   },
   "source": [
    "Predict on the validation set"
   ]
  },
  {
   "cell_type": "code",
   "execution_count": 14,
   "id": "75ce7af8",
   "metadata": {
    "execution": {
     "iopub.execute_input": "2023-03-31T16:13:54.365564Z",
     "iopub.status.busy": "2023-03-31T16:13:54.365151Z",
     "iopub.status.idle": "2023-03-31T16:13:54.392300Z",
     "shell.execute_reply": "2023-03-31T16:13:54.390799Z"
    },
    "papermill": {
     "duration": 0.0415,
     "end_time": "2023-03-31T16:13:54.395254",
     "exception": false,
     "start_time": "2023-03-31T16:13:54.353754",
     "status": "completed"
    },
    "tags": []
   },
   "outputs": [],
   "source": [
    "rf_preds = rf_model.predict(X_val)"
   ]
  },
  {
   "cell_type": "markdown",
   "id": "da5a62fd",
   "metadata": {
    "papermill": {
     "duration": 0.009749,
     "end_time": "2023-03-31T16:13:54.415508",
     "exception": false,
     "start_time": "2023-03-31T16:13:54.405759",
     "status": "completed"
    },
    "tags": []
   },
   "source": [
    "Calculate the Root Mean Squared Error (RMSE) on the validation set"
   ]
  },
  {
   "cell_type": "code",
   "execution_count": 15,
   "id": "d8474a83",
   "metadata": {
    "execution": {
     "iopub.execute_input": "2023-03-31T16:13:54.439440Z",
     "iopub.status.busy": "2023-03-31T16:13:54.438144Z",
     "iopub.status.idle": "2023-03-31T16:13:54.445949Z",
     "shell.execute_reply": "2023-03-31T16:13:54.444535Z"
    },
    "papermill": {
     "duration": 0.022472,
     "end_time": "2023-03-31T16:13:54.449013",
     "exception": false,
     "start_time": "2023-03-31T16:13:54.426541",
     "status": "completed"
    },
    "tags": []
   },
   "outputs": [
    {
     "name": "stdout",
     "output_type": "stream",
     "text": [
      "RF RMSE: 29181.164555052997\n"
     ]
    }
   ],
   "source": [
    "rf_rmse = np.sqrt(mean_squared_error(y_val, rf_preds))\n",
    "print(\"RF RMSE:\", rf_rmse)"
   ]
  },
  {
   "cell_type": "markdown",
   "id": "5939e902",
   "metadata": {
    "papermill": {
     "duration": 0.009662,
     "end_time": "2023-03-31T16:13:54.468570",
     "exception": false,
     "start_time": "2023-03-31T16:13:54.458908",
     "status": "completed"
    },
    "tags": []
   },
   "source": [
    "Gradient Boosting (GB)"
   ]
  },
  {
   "cell_type": "code",
   "execution_count": 16,
   "id": "bf4271a8",
   "metadata": {
    "execution": {
     "iopub.execute_input": "2023-03-31T16:13:54.490709Z",
     "iopub.status.busy": "2023-03-31T16:13:54.490259Z",
     "iopub.status.idle": "2023-03-31T16:13:55.201388Z",
     "shell.execute_reply": "2023-03-31T16:13:55.200379Z"
    },
    "papermill": {
     "duration": 0.726227,
     "end_time": "2023-03-31T16:13:55.204693",
     "exception": false,
     "start_time": "2023-03-31T16:13:54.478466",
     "status": "completed"
    },
    "tags": []
   },
   "outputs": [
    {
     "data": {
      "text/plain": [
       "GradientBoostingRegressor(random_state=42)"
      ]
     },
     "execution_count": 16,
     "metadata": {},
     "output_type": "execute_result"
    }
   ],
   "source": [
    "gb_model = GradientBoostingRegressor(n_estimators=100, random_state=42)\n",
    "gb_model.fit(X_train, y_train)"
   ]
  },
  {
   "cell_type": "markdown",
   "id": "32f89cde",
   "metadata": {
    "papermill": {
     "duration": 0.011072,
     "end_time": "2023-03-31T16:13:55.227985",
     "exception": false,
     "start_time": "2023-03-31T16:13:55.216913",
     "status": "completed"
    },
    "tags": []
   },
   "source": [
    "Predict on the validation set"
   ]
  },
  {
   "cell_type": "code",
   "execution_count": 17,
   "id": "92496ff3",
   "metadata": {
    "execution": {
     "iopub.execute_input": "2023-03-31T16:13:55.250867Z",
     "iopub.status.busy": "2023-03-31T16:13:55.250008Z",
     "iopub.status.idle": "2023-03-31T16:13:55.259909Z",
     "shell.execute_reply": "2023-03-31T16:13:55.258574Z"
    },
    "papermill": {
     "duration": 0.02391,
     "end_time": "2023-03-31T16:13:55.262479",
     "exception": false,
     "start_time": "2023-03-31T16:13:55.238569",
     "status": "completed"
    },
    "tags": []
   },
   "outputs": [],
   "source": [
    "gb_preds = gb_model.predict(X_val)"
   ]
  },
  {
   "cell_type": "markdown",
   "id": "53451e22",
   "metadata": {
    "papermill": {
     "duration": 0.009676,
     "end_time": "2023-03-31T16:13:55.282145",
     "exception": false,
     "start_time": "2023-03-31T16:13:55.272469",
     "status": "completed"
    },
    "tags": []
   },
   "source": [
    "Calculate the RMSE on the validation set"
   ]
  },
  {
   "cell_type": "code",
   "execution_count": 18,
   "id": "5fc78584",
   "metadata": {
    "execution": {
     "iopub.execute_input": "2023-03-31T16:13:55.304222Z",
     "iopub.status.busy": "2023-03-31T16:13:55.303766Z",
     "iopub.status.idle": "2023-03-31T16:13:55.310269Z",
     "shell.execute_reply": "2023-03-31T16:13:55.308906Z"
    },
    "papermill": {
     "duration": 0.020711,
     "end_time": "2023-03-31T16:13:55.312768",
     "exception": false,
     "start_time": "2023-03-31T16:13:55.292057",
     "status": "completed"
    },
    "tags": []
   },
   "outputs": [
    {
     "name": "stdout",
     "output_type": "stream",
     "text": [
      "GB RMSE: 27745.701484355628\n"
     ]
    }
   ],
   "source": [
    "gb_rmse = np.sqrt(mean_squared_error(y_val, gb_preds))\n",
    "print(\"GB RMSE:\", gb_rmse)"
   ]
  },
  {
   "cell_type": "markdown",
   "id": "9cbaba84",
   "metadata": {
    "papermill": {
     "duration": 0.011174,
     "end_time": "2023-03-31T16:13:55.334359",
     "exception": false,
     "start_time": "2023-03-31T16:13:55.323185",
     "status": "completed"
    },
    "tags": []
   },
   "source": [
    "Combine the train and test data for predictions"
   ]
  },
  {
   "cell_type": "code",
   "execution_count": 19,
   "id": "ef3afba0",
   "metadata": {
    "execution": {
     "iopub.execute_input": "2023-03-31T16:13:55.356833Z",
     "iopub.status.busy": "2023-03-31T16:13:55.356360Z",
     "iopub.status.idle": "2023-03-31T16:13:55.373058Z",
     "shell.execute_reply": "2023-03-31T16:13:55.371665Z"
    },
    "papermill": {
     "duration": 0.03146,
     "end_time": "2023-03-31T16:13:55.376115",
     "exception": false,
     "start_time": "2023-03-31T16:13:55.344655",
     "status": "completed"
    },
    "tags": []
   },
   "outputs": [],
   "source": [
    "combined_preds = pd.concat([X_train, X_val, test_processed.drop(['Id', 'SalePrice'], axis=1)], sort=False)"
   ]
  },
  {
   "cell_type": "markdown",
   "id": "97aac0c8",
   "metadata": {
    "papermill": {
     "duration": 0.00996,
     "end_time": "2023-03-31T16:13:55.396263",
     "exception": false,
     "start_time": "2023-03-31T16:13:55.386303",
     "status": "completed"
    },
    "tags": []
   },
   "source": [
    "Fill missing values with mean"
   ]
  },
  {
   "cell_type": "code",
   "execution_count": 20,
   "id": "b0853b4d",
   "metadata": {
    "execution": {
     "iopub.execute_input": "2023-03-31T16:13:55.419284Z",
     "iopub.status.busy": "2023-03-31T16:13:55.418379Z",
     "iopub.status.idle": "2023-03-31T16:13:55.443889Z",
     "shell.execute_reply": "2023-03-31T16:13:55.442945Z"
    },
    "papermill": {
     "duration": 0.040073,
     "end_time": "2023-03-31T16:13:55.446586",
     "exception": false,
     "start_time": "2023-03-31T16:13:55.406513",
     "status": "completed"
    },
    "tags": []
   },
   "outputs": [],
   "source": [
    "combined_preds.fillna(combined_preds.mean(), inplace=True) "
   ]
  },
  {
   "cell_type": "markdown",
   "id": "cc217b83",
   "metadata": {
    "papermill": {
     "duration": 0.010136,
     "end_time": "2023-03-31T16:13:55.466754",
     "exception": false,
     "start_time": "2023-03-31T16:13:55.456618",
     "status": "completed"
    },
    "tags": []
   },
   "source": [
    "Random Forests (RFs) predictions on the combined data"
   ]
  },
  {
   "cell_type": "code",
   "execution_count": 21,
   "id": "db8f903c",
   "metadata": {
    "execution": {
     "iopub.execute_input": "2023-03-31T16:13:55.490660Z",
     "iopub.status.busy": "2023-03-31T16:13:55.489762Z",
     "iopub.status.idle": "2023-03-31T16:13:59.008476Z",
     "shell.execute_reply": "2023-03-31T16:13:59.006932Z"
    },
    "papermill": {
     "duration": 3.533945,
     "end_time": "2023-03-31T16:13:59.011590",
     "exception": false,
     "start_time": "2023-03-31T16:13:55.477645",
     "status": "completed"
    },
    "tags": []
   },
   "outputs": [],
   "source": [
    "rf_model.fit(combined_preds.iloc[:len(y), :], y)\n",
    "rf_preds_test = rf_model.predict(combined_preds.iloc[len(y):len(y)+len(test_processed), :])"
   ]
  },
  {
   "cell_type": "markdown",
   "id": "6a66de38",
   "metadata": {
    "papermill": {
     "duration": 0.009999,
     "end_time": "2023-03-31T16:13:59.032534",
     "exception": false,
     "start_time": "2023-03-31T16:13:59.022535",
     "status": "completed"
    },
    "tags": []
   },
   "source": [
    "Gradient Boosting (GB) predictions on the combined data"
   ]
  },
  {
   "cell_type": "code",
   "execution_count": 22,
   "id": "5a42e97a",
   "metadata": {
    "execution": {
     "iopub.execute_input": "2023-03-31T16:13:59.055628Z",
     "iopub.status.busy": "2023-03-31T16:13:59.055216Z",
     "iopub.status.idle": "2023-03-31T16:13:59.928436Z",
     "shell.execute_reply": "2023-03-31T16:13:59.926762Z"
    },
    "papermill": {
     "duration": 0.888677,
     "end_time": "2023-03-31T16:13:59.931723",
     "exception": false,
     "start_time": "2023-03-31T16:13:59.043046",
     "status": "completed"
    },
    "tags": []
   },
   "outputs": [],
   "source": [
    "gb_model.fit(combined_preds.iloc[:len(y), :], y)\n",
    "gb_preds_test = gb_model.predict(combined_preds.iloc[len(y):len(y)+len(test_processed), :])"
   ]
  },
  {
   "cell_type": "markdown",
   "id": "c18d9f98",
   "metadata": {
    "papermill": {
     "duration": 0.009765,
     "end_time": "2023-03-31T16:13:59.953033",
     "exception": false,
     "start_time": "2023-03-31T16:13:59.943268",
     "status": "completed"
    },
    "tags": []
   },
   "source": [
    "Ensemble the predictions with a simple average"
   ]
  },
  {
   "cell_type": "code",
   "execution_count": 23,
   "id": "6e925827",
   "metadata": {
    "execution": {
     "iopub.execute_input": "2023-03-31T16:13:59.975478Z",
     "iopub.status.busy": "2023-03-31T16:13:59.974879Z",
     "iopub.status.idle": "2023-03-31T16:13:59.981252Z",
     "shell.execute_reply": "2023-03-31T16:13:59.979669Z"
    },
    "papermill": {
     "duration": 0.020595,
     "end_time": "2023-03-31T16:13:59.983613",
     "exception": false,
     "start_time": "2023-03-31T16:13:59.963018",
     "status": "completed"
    },
    "tags": []
   },
   "outputs": [],
   "source": [
    "ensemble_preds = (rf_preds_test + gb_preds_test) / 2"
   ]
  },
  {
   "cell_type": "markdown",
   "id": "0acaaa50",
   "metadata": {
    "papermill": {
     "duration": 0.010126,
     "end_time": "2023-03-31T16:14:00.003873",
     "exception": false,
     "start_time": "2023-03-31T16:13:59.993747",
     "status": "completed"
    },
    "tags": []
   },
   "source": [
    "Save predictions to a CSV file"
   ]
  },
  {
   "cell_type": "code",
   "execution_count": 24,
   "id": "2ba29f45",
   "metadata": {
    "execution": {
     "iopub.execute_input": "2023-03-31T16:14:00.027535Z",
     "iopub.status.busy": "2023-03-31T16:14:00.026400Z",
     "iopub.status.idle": "2023-03-31T16:14:00.044894Z",
     "shell.execute_reply": "2023-03-31T16:14:00.043121Z"
    },
    "papermill": {
     "duration": 0.033764,
     "end_time": "2023-03-31T16:14:00.048391",
     "exception": false,
     "start_time": "2023-03-31T16:14:00.014627",
     "status": "completed"
    },
    "tags": []
   },
   "outputs": [],
   "source": [
    "submission = pd.DataFrame({'Id': test_processed['Id'], 'SalePrice': ensemble_preds})\n",
    "submission.to_csv('submission3.csv', index=False)"
   ]
  }
 ],
 "metadata": {
  "kernelspec": {
   "display_name": "Python 3",
   "language": "python",
   "name": "python3"
  },
  "language_info": {
   "codemirror_mode": {
    "name": "ipython",
    "version": 3
   },
   "file_extension": ".py",
   "mimetype": "text/x-python",
   "name": "python",
   "nbconvert_exporter": "python",
   "pygments_lexer": "ipython3",
   "version": "3.7.12"
  },
  "papermill": {
   "default_parameters": {},
   "duration": 23.472104,
   "end_time": "2023-03-31T16:14:00.883657",
   "environment_variables": {},
   "exception": null,
   "input_path": "__notebook__.ipynb",
   "output_path": "__notebook__.ipynb",
   "parameters": {},
   "start_time": "2023-03-31T16:13:37.411553",
   "version": "2.4.0"
  }
 },
 "nbformat": 4,
 "nbformat_minor": 5
}
